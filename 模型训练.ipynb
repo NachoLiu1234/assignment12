{
 "cells": [
  {
   "cell_type": "code",
   "execution_count": 0,
   "metadata": {
    "colab": {
     "base_uri": "https://localhost:8080/",
     "height": 127
    },
    "colab_type": "code",
    "id": "7hKFhGXOQ9Uh",
    "outputId": "c3e8d3d3-ae1e-4134-f855-d24dcebb5688"
   },
   "outputs": [
    {
     "name": "stdout",
     "output_type": "stream",
     "text": [
      "Go to this URL in a browser: https://accounts.google.com/o/oauth2/auth?client_id=947318989803-6bn6qk8qdgf4n4g3pfee6491hc0brc4i.apps.googleusercontent.com&redirect_uri=urn%3aietf%3awg%3aoauth%3a2.0%3aoob&response_type=code&scope=email%20https%3a%2f%2fwww.googleapis.com%2fauth%2fdocs.test%20https%3a%2f%2fwww.googleapis.com%2fauth%2fdrive%20https%3a%2f%2fwww.googleapis.com%2fauth%2fdrive.photos.readonly%20https%3a%2f%2fwww.googleapis.com%2fauth%2fpeopleapi.readonly\n",
      "\n",
      "Enter your authorization code:\n",
      "··········\n",
      "Mounted at /content/drive\n"
     ]
    }
   ],
   "source": [
    "from google.colab import drive\n",
    "drive.mount('/content/drive')"
   ]
  },
  {
   "cell_type": "code",
   "execution_count": 17,
   "metadata": {
    "colab": {
     "base_uri": "https://localhost:8080/",
     "height": 305
    },
    "colab_type": "code",
    "id": "mUfZo0e9Q9Ul",
    "outputId": "1ce96bb8-f377-42d1-d0e7-d9cdc3bce065"
   },
   "outputs": [
    {
     "name": "stdout",
     "output_type": "stream",
     "text": [
      "Fri Jan  3 14:02:42 2020       \n",
      "+-----------------------------------------------------------------------------+\n",
      "| NVIDIA-SMI 418.67       Driver Version: 418.67       CUDA Version: 10.1     |\n",
      "|-------------------------------+----------------------+----------------------+\n",
      "| GPU  Name        Persistence-M| Bus-Id        Disp.A | Volatile Uncorr. ECC |\n",
      "| Fan  Temp  Perf  Pwr:Usage/Cap|         Memory-Usage | GPU-Util  Compute M. |\n",
      "|===============================+======================+======================|\n",
      "|   0  Tesla P100-PCIE...  Off  | 00000000:00:04.0 Off |                    0 |\n",
      "| N/A   44C    P0    35W / 250W |   8747MiB / 16280MiB |      0%      Default |\n",
      "+-------------------------------+----------------------+----------------------+\n",
      "                                                                               \n",
      "+-----------------------------------------------------------------------------+\n",
      "| Processes:                                                       GPU Memory |\n",
      "|  GPU       PID   Type   Process name                             Usage      |\n",
      "|=============================================================================|\n",
      "+-----------------------------------------------------------------------------+\n"
     ]
    }
   ],
   "source": [
    "! /opt/bin/nvidia-smi\n",
    "import pandas as pd\n",
    "import numpy as np\n",
    "import tensorflow as tf\n",
    "import copy\n",
    "import random\n",
    "import matplotlib\n",
    "from matplotlib import pyplot as plt\n",
    "from time import *\n",
    "import _pickle as pickle\n",
    "import json\n",
    "from sklearn import preprocessing\n",
    "%matplotlib inline\n",
    "\n",
    "\n",
    "batch_size = 128\n",
    "conv1d_length = 17280\n"
   ]
  },
  {
   "cell_type": "code",
   "execution_count": 0,
   "metadata": {
    "colab": {},
    "colab_type": "code",
    "id": "s2MQhQuhQ9Un"
   },
   "outputs": [],
   "source": [
    "content = pd.read_csv(r'/content/drive/My Drive/Colab Notebooks/dataframe.csv')\n",
    "use_column = ['c', 'cap', 'h-l/c', 'ma15min', 'ma30min', 'ma1h',\n",
    "              'ma2h', 'ma5h', 'ma12h', 'ma24h', 'ma48h', 'cap-ma15min', 'cap-ma30min',\n",
    "              'cap-ma1h', 'cap-ma2h', 'cap-ma5h', 'cap-ma12h',\n",
    "              'cap-ma24h', 'cap-ma48h',\n",
    "              'usdt_huobi', 'out_4h_close']\n",
    "content = content[use_column]\n",
    "content = content.dropna(axis=0)"
   ]
  },
  {
   "cell_type": "markdown",
   "metadata": {
    "colab_type": "text",
    "id": "RbbBeUaxcrLH"
   },
   "source": []
  },
  {
   "cell_type": "code",
   "execution_count": 0,
   "metadata": {
    "colab": {},
    "colab_type": "code",
    "id": "wq7azNnvQ9Uo",
    "scrolled": true
   },
   "outputs": [],
   "source": [
    "assert list(content.columns) == use_column, 'use_column的column的列的排序不对'"
   ]
  },
  {
   "cell_type": "code",
   "execution_count": 18,
   "metadata": {
    "colab": {
     "base_uri": "https://localhost:8080/",
     "height": 53
    },
    "colab_type": "code",
    "id": "qacwZpysQ9Us",
    "outputId": "30c3bb14-d38c-4786-ffc7-60534721452e"
   },
   "outputs": [
    {
     "name": "stdout",
     "output_type": "stream",
     "text": [
      "Y mean: -2.839397797857826e-18,\n",
      "Y std: 1.0000000000000002\n"
     ]
    }
   ],
   "source": [
    "X = np.array(content)[:, :-1]\n",
    "Y = np.array(content)[:, -1]\n",
    "X = preprocessing.scale(X)\n",
    "Y = preprocessing.scale(Y)\n",
    "\n",
    "mean = np.mean(Y)\n",
    "std = np.std(Y)\n",
    "print(f'Y mean: {mean},\\nY std: {std}')\n",
    "Y = (Y - mean) / std"
   ]
  },
  {
   "cell_type": "code",
   "execution_count": 0,
   "metadata": {
    "colab": {},
    "colab_type": "code",
    "id": "ilhHe9TVQ9Ut"
   },
   "outputs": [],
   "source": [
    "class CIFAR10Sequence(tf.keras.utils.Sequence):\n",
    "    def __init__(self, x_set, y_set, conv1d_length, batch_size, is_train_set=True, validation_split=0.1, seed=1):\n",
    "        assert len(x_set) == len(y_set), 'y 不需要进行最后的conv1d的卷积长度的去除'\n",
    "        self.x, self.y = x_set, y_set[conv1d_length - 1:]\n",
    "        self.conv1d_length = conv1d_length\n",
    "        self.batch_size = batch_size\n",
    "        item_list = [i for i in range(len(self.x) - self.conv1d_length + 1)]\n",
    "        random.seed(seed)\n",
    "        self.train_item_list = sorted(random.sample(item_list, int(len(item_list) * (1 - validation_split))))\n",
    "        if is_train_set:\n",
    "            self.item_list = self.train_item_list\n",
    "        else:\n",
    "            train_item_set = set(self.train_item_list)\n",
    "            self.test_item_list = [i for i in item_list if i not in train_item_set]\n",
    "            self.item_list = self.test_item_list\n",
    "\n",
    "    def __len__(self):\n",
    "        return len(self.item_list) // self.batch_size\n",
    "\n",
    "    def __getitem__(self, idx):\n",
    "        batch_x = [self.x[item_number: item_number + self.conv1d_length] for item_number in self.item_list[idx * self.batch_size: (idx + 1) * self.batch_size]]\n",
    "        batch_y = [self.y[item_number] for item_number in self.item_list[idx * self.batch_size: (idx + 1) * self.batch_size]]\n",
    "\n",
    "        return np.array(batch_x), np.array(batch_y)"
   ]
  },
  {
   "cell_type": "code",
   "execution_count": 0,
   "metadata": {
    "colab": {},
    "colab_type": "code",
    "id": "BS5B7-48Q9Uu"
   },
   "outputs": [],
   "source": [
    "train = CIFAR10Sequence(X, Y, conv1d_length, batch_size, is_train_set=True)\n",
    "test = CIFAR10Sequence(X, Y, conv1d_length, batch_size, is_train_set=False)"
   ]
  },
  {
   "cell_type": "code",
   "execution_count": 0,
   "metadata": {
    "colab": {},
    "colab_type": "code",
    "id": "M-3__7TbQ9Ux"
   },
   "outputs": [],
   "source": [
    "model = tf.keras.Sequential([\n",
    "    tf.keras.layers.Conv1D(filters=32, kernel_size=3, strides=1, activation='relu', input_shape=(conv1d_length,20)),\n",
    "    tf.keras.layers.Conv1D(filters=32, kernel_size=3, strides=1, activation='relu'),\n",
    "    tf.keras.layers.MaxPooling1D(padding='same'),\n",
    "    tf.keras.layers.Conv1D(filters=64, kernel_size=3, strides=1, activation='relu'),\n",
    "    tf.keras.layers.Conv1D(filters=64, kernel_size=3, strides=1, activation='relu'),\n",
    "    tf.keras.layers.MaxPooling1D(padding='same'),\n",
    "    tf.keras.layers.Conv1D(filters=128, kernel_size=3, strides=1, activation='relu'),\n",
    "    tf.keras.layers.Conv1D(filters=128, kernel_size=3, strides=1, activation='relu'),\n",
    "    tf.keras.layers.MaxPooling1D(padding='same'),\n",
    "    tf.keras.layers.Conv1D(filters=128, kernel_size=3, strides=1, activation='relu'),\n",
    "    tf.keras.layers.MaxPooling1D(padding='same'),\n",
    "    tf.keras.layers.Conv1D(filters=128, kernel_size=3, strides=1, activation='relu'),\n",
    "    tf.keras.layers.MaxPooling1D(padding='same'),\n",
    "    tf.keras.layers.Conv1D(filters=128, kernel_size=3, strides=1, activation='relu'),\n",
    "    tf.keras.layers.MaxPooling1D(padding='same'),\n",
    "    tf.keras.layers.Conv1D(filters=128, kernel_size=3, strides=1, activation='relu'),\n",
    "    tf.keras.layers.MaxPooling1D(padding='same'),\n",
    "    tf.keras.layers.Conv1D(filters=128, kernel_size=3, strides=1, activation='relu'),\n",
    "    tf.keras.layers.MaxPooling1D(padding='same'),\n",
    "    tf.keras.layers.Conv1D(filters=128, kernel_size=3, strides=1, activation='relu'),\n",
    "    tf.keras.layers.MaxPooling1D(padding='same'),\n",
    "    tf.keras.layers.Conv1D(filters=128, kernel_size=3, strides=1, activation='relu'),\n",
    "    tf.keras.layers.MaxPooling1D(padding='same'),\n",
    "    tf.keras.layers.Conv1D(filters=128, kernel_size=3, strides=1, activation='relu'),\n",
    "    tf.keras.layers.MaxPooling1D(padding='same'),\n",
    "    \n",
    "    tf.keras.layers.Flatten(),\n",
    "    tf.keras.layers.Dense(128,activation=\"relu\"),\n",
    "    tf.keras.layers.Dropout(0.5),\n",
    "    tf.keras.layers.Dense(16,activation=\"relu\"),\n",
    "    tf.keras.layers.Dropout(0.5),\n",
    "    tf.keras.layers.Dense(1)\n",
    "])"
   ]
  },
  {
   "cell_type": "code",
   "execution_count": 0,
   "metadata": {
    "colab": {},
    "colab_type": "code",
    "id": "fl45zoxzQ9U0"
   },
   "outputs": [],
   "source": [
    "model.compile(optimizer=tf.keras.optimizers.SGD(0.001),\n",
    "              loss=tf.keras.losses.MSE,\n",
    "              metrics = [\"mean_squared_error\"])"
   ]
  },
  {
   "cell_type": "code",
   "execution_count": 0,
   "metadata": {
    "colab": {
     "base_uri": "https://localhost:8080/",
     "height": 413
    },
    "colab_type": "code",
    "id": "4MmjACvtQ9U1",
    "outputId": "939bf851-8108-4745-90ee-4c023441656d"
   },
   "outputs": [
    {
     "name": "stdout",
     "output_type": "stream",
     "text": [
      "epochs: 55, \n",
      "devide: 1\n",
      "Epoch 1/55\n",
      "4100/4101 [============================>.] - ETA: 0s - loss: 1.0040 - mean_squared_error: 1.0040Epoch 1/55\n",
      "4101/4101 [==============================] - 1664s 406ms/step - loss: 1.0037 - mean_squared_error: 1.0037 - val_loss: 0.9893 - val_mean_squared_error: 0.9893\n",
      "Epoch 2/55\n",
      "4100/4101 [============================>.] - ETA: 0s - loss: 1.0039 - mean_squared_error: 1.0039Epoch 1/55\n",
      "4101/4101 [==============================] - 1668s 407ms/step - loss: 1.0043 - mean_squared_error: 1.0043 - val_loss: 0.9888 - val_mean_squared_error: 0.9888\n",
      "Epoch 3/55\n",
      "4100/4101 [============================>.] - ETA: 0s - loss: 1.0041 - mean_squared_error: 1.0041Epoch 1/55\n",
      "4101/4101 [==============================] - 1680s 410ms/step - loss: 1.0040 - mean_squared_error: 1.0040 - val_loss: 0.9910 - val_mean_squared_error: 0.9910\n",
      "Epoch 4/55\n",
      "4100/4101 [============================>.] - ETA: 0s - loss: 1.0042 - mean_squared_error: 1.0042Epoch 1/55\n",
      "4101/4101 [==============================] - 1685s 411ms/step - loss: 1.0040 - mean_squared_error: 1.0040 - val_loss: 0.9890 - val_mean_squared_error: 0.9890\n",
      "Epoch 5/55\n",
      "4100/4101 [============================>.] - ETA: 0s - loss: 1.0044 - mean_squared_error: 1.0044Epoch 1/55\n",
      "4101/4101 [==============================] - 1685s 411ms/step - loss: 1.0042 - mean_squared_error: 1.0042 - val_loss: 0.9882 - val_mean_squared_error: 0.9882\n",
      "Epoch 6/55\n",
      "4100/4101 [============================>.] - ETA: 0s - loss: 1.0034 - mean_squared_error: 1.0034Epoch 1/55\n",
      "4101/4101 [==============================] - 1668s 407ms/step - loss: 1.0031 - mean_squared_error: 1.0031 - val_loss: 0.9882 - val_mean_squared_error: 0.9882\n",
      "Epoch 7/55\n",
      " 191/4101 [>.............................] - ETA: 24:58 - loss: 1.4568 - mean_squared_error: 1.4568"
     ]
    }
   ],
   "source": [
    "epochs = 55\n",
    "devide = 1\n",
    "print(f'epochs: {epochs}, \\ndevide: {devide}')\n",
    "H = model.fit_generator(train, steps_per_epoch=len(train) / devide, epochs=epochs, validation_data=test, validation_steps=len(test) / devide)  # len(train)"
   ]
  },
  {
   "cell_type": "code",
   "execution_count": 0,
   "metadata": {
    "colab": {},
    "colab_type": "code",
    "id": "E3XOlSq0Q9U-"
   },
   "outputs": [],
   "source": []
  },
  {
   "cell_type": "code",
   "execution_count": 0,
   "metadata": {
    "colab": {},
    "colab_type": "code",
    "id": "14mcs6zfQ9U_"
   },
   "outputs": [],
   "source": []
  },
  {
   "cell_type": "code",
   "execution_count": 0,
   "metadata": {
    "colab": {},
    "colab_type": "code",
    "id": "i44cKvkRQ9VA"
   },
   "outputs": [],
   "source": []
  },
  {
   "cell_type": "code",
   "execution_count": 0,
   "metadata": {
    "colab": {},
    "colab_type": "code",
    "id": "3E8vvfkBQ9VD"
   },
   "outputs": [],
   "source": []
  },
  {
   "cell_type": "code",
   "execution_count": 0,
   "metadata": {
    "colab": {},
    "colab_type": "code",
    "id": "fvbBrozIQ9VF"
   },
   "outputs": [],
   "source": []
  },
  {
   "cell_type": "code",
   "execution_count": 0,
   "metadata": {
    "colab": {},
    "colab_type": "code",
    "id": "xn1FWC4BQ9VG"
   },
   "outputs": [],
   "source": []
  },
  {
   "cell_type": "code",
   "execution_count": 0,
   "metadata": {
    "colab": {},
    "colab_type": "code",
    "id": "UHFoT98dQ9VH"
   },
   "outputs": [],
   "source": []
  },
  {
   "cell_type": "code",
   "execution_count": 0,
   "metadata": {
    "colab": {},
    "colab_type": "code",
    "id": "-2yBnzmpQ9VJ"
   },
   "outputs": [],
   "source": []
  },
  {
   "cell_type": "code",
   "execution_count": 0,
   "metadata": {
    "colab": {},
    "colab_type": "code",
    "id": "ptYf3JEEQ9VK"
   },
   "outputs": [],
   "source": []
  },
  {
   "cell_type": "code",
   "execution_count": 0,
   "metadata": {
    "colab": {},
    "colab_type": "code",
    "id": "MbxNhXyzQ9VL"
   },
   "outputs": [],
   "source": []
  },
  {
   "cell_type": "code",
   "execution_count": 0,
   "metadata": {
    "colab": {},
    "colab_type": "code",
    "id": "aMeLyqBqQ9VM"
   },
   "outputs": [],
   "source": []
  },
  {
   "cell_type": "code",
   "execution_count": 0,
   "metadata": {
    "colab": {},
    "colab_type": "code",
    "id": "TTiphd0HQ9VN"
   },
   "outputs": [],
   "source": []
  },
  {
   "cell_type": "code",
   "execution_count": 0,
   "metadata": {
    "colab": {},
    "colab_type": "code",
    "id": "ARFRWrRWQ9VO"
   },
   "outputs": [],
   "source": []
  },
  {
   "cell_type": "code",
   "execution_count": 0,
   "metadata": {
    "colab": {},
    "colab_type": "code",
    "id": "TdyuWBGJQ9VR"
   },
   "outputs": [],
   "source": []
  },
  {
   "cell_type": "code",
   "execution_count": 0,
   "metadata": {
    "colab": {},
    "colab_type": "code",
    "id": "zpYydMM9Q9VT"
   },
   "outputs": [],
   "source": []
  },
  {
   "cell_type": "code",
   "execution_count": 0,
   "metadata": {
    "colab": {},
    "colab_type": "code",
    "id": "VOBMZbvsQ9VU"
   },
   "outputs": [],
   "source": []
  },
  {
   "cell_type": "code",
   "execution_count": 0,
   "metadata": {
    "colab": {},
    "colab_type": "code",
    "id": "eYHhqnNtQ9VV"
   },
   "outputs": [],
   "source": []
  },
  {
   "cell_type": "code",
   "execution_count": 0,
   "metadata": {
    "colab": {},
    "colab_type": "code",
    "id": "DS13J0g2Q9VW"
   },
   "outputs": [],
   "source": []
  },
  {
   "cell_type": "code",
   "execution_count": 0,
   "metadata": {
    "colab": {},
    "colab_type": "code",
    "id": "8cgN8Bf2Q9VX"
   },
   "outputs": [],
   "source": []
  },
  {
   "cell_type": "code",
   "execution_count": 0,
   "metadata": {
    "colab": {},
    "colab_type": "code",
    "id": "BlpW8VdpQ9VY"
   },
   "outputs": [],
   "source": []
  },
  {
   "cell_type": "code",
   "execution_count": 0,
   "metadata": {
    "colab": {},
    "colab_type": "code",
    "id": "t9XwyKOLQ9Va"
   },
   "outputs": [],
   "source": []
  },
  {
   "cell_type": "code",
   "execution_count": 0,
   "metadata": {
    "colab": {},
    "colab_type": "code",
    "id": "wyb4MkwOQ9Vb"
   },
   "outputs": [],
   "source": []
  }
 ],
 "metadata": {
  "accelerator": "GPU",
  "colab": {
   "collapsed_sections": [],
   "machine_shape": "hm",
   "name": "模型训练.ipynb",
   "provenance": []
  },
  "kernelspec": {
   "display_name": "Python 3",
   "language": "python",
   "name": "python3"
  },
  "language_info": {
   "codemirror_mode": {
    "name": "ipython",
    "version": 3
   },
   "file_extension": ".py",
   "mimetype": "text/x-python",
   "name": "python",
   "nbconvert_exporter": "python",
   "pygments_lexer": "ipython3",
   "version": "3.7.4"
  }
 },
 "nbformat": 4,
 "nbformat_minor": 1
}
