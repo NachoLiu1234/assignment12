{
 "cells": [
  {
   "cell_type": "code",
   "execution_count": 1,
   "metadata": {},
   "outputs": [],
   "source": [
    "import pinyin"
   ]
  },
  {
   "cell_type": "code",
   "execution_count": 2,
   "metadata": {},
   "outputs": [],
   "source": [
    "chinese_dataset = 'article_9k.txt'\n",
    "CHINESE_CHARATERS = open(chinese_dataset, encoding='utf8').read()\n"
   ]
  },
  {
   "cell_type": "code",
   "execution_count": 3,
   "metadata": {},
   "outputs": [],
   "source": [
    "def chinese2pingying(word):\n",
    "    return pinyin.get(word, format='strip', delimiter=' ')"
   ]
  },
  {
   "cell_type": "code",
   "execution_count": 4,
   "metadata": {},
   "outputs": [],
   "source": [
    "pingying = chinese2pingying(CHINESE_CHARATERS)"
   ]
  },
  {
   "cell_type": "code",
   "execution_count": 5,
   "metadata": {},
   "outputs": [
    {
     "data": {
      "text/plain": [
       "'ci wai zi ben zhou 6 yue 1 2 ri qi chu xiao mi shou ji 6 deng 1 5 kuan ji xing wai qi yu ji xing yi '"
      ]
     },
     "execution_count": 5,
     "metadata": {},
     "output_type": "execute_result"
    }
   ],
   "source": [
    "pingying[:100]"
   ]
  },
  {
   "cell_type": "code",
   "execution_count": 6,
   "metadata": {},
   "outputs": [],
   "source": [
    "import re"
   ]
  },
  {
   "cell_type": "code",
   "execution_count": 7,
   "metadata": {},
   "outputs": [],
   "source": [
    "pingying = re.findall('[a-z]+', pingying)"
   ]
  },
  {
   "cell_type": "code",
   "execution_count": 8,
   "metadata": {},
   "outputs": [],
   "source": [
    "from collections import Counter"
   ]
  },
  {
   "cell_type": "code",
   "execution_count": 9,
   "metadata": {},
   "outputs": [],
   "source": [
    "pingying = Counter(pingying)"
   ]
  },
  {
   "cell_type": "code",
   "execution_count": 10,
   "metadata": {},
   "outputs": [],
   "source": [
    "def edit_1(word):\n",
    "    alphabet = 'abcdefghijklmnopqrstuvwxyz'\n",
    "    \n",
    "    insert = [word[:i] + w + word[i:] for i in range(len(word) + 1) for w in alphabet]\n",
    "    delete = [word[:i] + word[i + 1:] for i in range(len(word))]\n",
    "    transposes = [word[:i] + word[i + 1] + word[i] + word[i + 2:] for i in range(len(word) - 1)]\n",
    "    replaces = [word[:i] + w + word[i+1:] for i in range(len(word)) for w in alphabet]\n",
    "    return set(insert + delete + transposes + replaces)"
   ]
  },
  {
   "cell_type": "code",
   "execution_count": 11,
   "metadata": {
    "scrolled": true
   },
   "outputs": [
    {
     "data": {
      "text/plain": [
       "338"
      ]
     },
     "execution_count": 11,
     "metadata": {},
     "output_type": "execute_result"
    }
   ],
   "source": [
    "len(edit_1('pinyin'))"
   ]
  },
  {
   "cell_type": "code",
   "execution_count": 12,
   "metadata": {},
   "outputs": [],
   "source": [
    "def known(words):\n",
    "    return [word for word in words if word in pingying]"
   ]
  },
  {
   "cell_type": "code",
   "execution_count": 13,
   "metadata": {},
   "outputs": [],
   "source": [
    "def correct(word):\n",
    "    words = known([word]) or known(edit_1(word)) or known([e2 for e1 in edit_1(word) for e2 in edit_1(e1)]) or [word]\n",
    "    return sorted(words, key=pingying.get)[-1]"
   ]
  },
  {
   "cell_type": "code",
   "execution_count": 14,
   "metadata": {},
   "outputs": [],
   "source": [
    "def correct_sequence_pinyin(text_pingyin):\n",
    "    return ' '.join(map(correct, text_pingyin.split()))"
   ]
  },
  {
   "cell_type": "code",
   "execution_count": 15,
   "metadata": {},
   "outputs": [
    {
     "data": {
      "text/plain": [
       "'wo xiang shang qing hua da xue'"
      ]
     },
     "execution_count": 15,
     "metadata": {},
     "output_type": "execute_result"
    }
   ],
   "source": [
    "correct_sequence_pinyin('wo xiang shagn qinng hua da xue')"
   ]
  },
  {
   "cell_type": "code",
   "execution_count": null,
   "metadata": {},
   "outputs": [],
   "source": []
  },
  {
   "cell_type": "code",
   "execution_count": null,
   "metadata": {},
   "outputs": [],
   "source": []
  },
  {
   "cell_type": "code",
   "execution_count": 16,
   "metadata": {},
   "outputs": [],
   "source": [
    "from functools import lru_cache"
   ]
  },
  {
   "cell_type": "code",
   "execution_count": 113,
   "metadata": {},
   "outputs": [],
   "source": [
    "p = 'woxiang'"
   ]
  },
  {
   "cell_type": "code",
   "execution_count": 118,
   "metadata": {},
   "outputs": [],
   "source": [
    "def split(p):\n",
    "    status_list = []\n",
    "    \n",
    "    status = [0 for _ in range(len(p) - 1)]\n",
    "    \n",
    "    def _change_status(status, num):\n",
    "        if num > 0:\n",
    "            num -= 1\n",
    "            indexes = [i for i, _ in enumerate(status) if _ is 0]\n",
    "            \n",
    "            for index in indexes:\n",
    "                _status = status.copy()\n",
    "                _status[index] = 1\n",
    "                yield (_status, num)\n",
    "        else:\n",
    "            yield (status, num)\n",
    "            \n",
    "    def _reduce_num_to_0(status, num):\n",
    "        heap = []\n",
    "        if num > 0:\n",
    "            heap.append((status, num))\n",
    "        \n",
    "        while heap:\n",
    "            status, num = heap.pop()\n",
    "            num -= 1\n",
    "            for status, num in _change_status(status, num):\n",
    "                if num:\n",
    "                    heap.append((status, num))\n",
    "                else:\n",
    "                    yield tuple(status)\n",
    "        \n",
    "    for num in range(1, len(p)):\n",
    "        for s in _reduce_num_to_0(status, num):\n",
    "            if s not in status_list:\n",
    "                status_list.append(s)\n",
    "                yield s\n"
   ]
  },
  {
   "cell_type": "code",
   "execution_count": null,
   "metadata": {},
   "outputs": [],
   "source": []
  },
  {
   "cell_type": "code",
   "execution_count": 119,
   "metadata": {},
   "outputs": [
    {
     "name": "stdout",
     "output_type": "stream",
     "text": [
      "1\n",
      "2\n",
      "3\n",
      "4\n",
      "5\n",
      "6\n"
     ]
    },
    {
     "data": {
      "text/plain": [
       "[(0, 0, 0, 0, 0, 0),\n",
       " (1, 0, 0, 0, 0, 0),\n",
       " (0, 1, 0, 0, 0, 0),\n",
       " (0, 0, 1, 0, 0, 0),\n",
       " (0, 0, 0, 1, 0, 0),\n",
       " (0, 0, 0, 0, 1, 0),\n",
       " (0, 0, 0, 0, 0, 1),\n",
       " (1, 0, 0, 0, 0, 1),\n",
       " (0, 1, 0, 0, 0, 1),\n",
       " (0, 0, 1, 0, 0, 1),\n",
       " (0, 0, 0, 1, 0, 1),\n",
       " (0, 0, 0, 0, 1, 1),\n",
       " (1, 0, 0, 0, 1, 0),\n",
       " (0, 1, 0, 0, 1, 0),\n",
       " (0, 0, 1, 0, 1, 0),\n",
       " (0, 0, 0, 1, 1, 0),\n",
       " (1, 0, 0, 1, 0, 0),\n",
       " (0, 1, 0, 1, 0, 0),\n",
       " (0, 0, 1, 1, 0, 0),\n",
       " (1, 0, 1, 0, 0, 0),\n",
       " (0, 1, 1, 0, 0, 0),\n",
       " (1, 1, 0, 0, 0, 0),\n",
       " (1, 0, 0, 0, 1, 1),\n",
       " (0, 1, 0, 0, 1, 1),\n",
       " (0, 0, 1, 0, 1, 1),\n",
       " (0, 0, 0, 1, 1, 1),\n",
       " (1, 0, 0, 1, 0, 1),\n",
       " (0, 1, 0, 1, 0, 1),\n",
       " (0, 0, 1, 1, 0, 1),\n",
       " (1, 0, 1, 0, 0, 1),\n",
       " (0, 1, 1, 0, 0, 1),\n",
       " (1, 1, 0, 0, 0, 1),\n",
       " (1, 0, 0, 1, 1, 0),\n",
       " (0, 1, 0, 1, 1, 0),\n",
       " (0, 0, 1, 1, 1, 0),\n",
       " (1, 0, 1, 0, 1, 0),\n",
       " (0, 1, 1, 0, 1, 0),\n",
       " (1, 1, 0, 0, 1, 0),\n",
       " (1, 0, 1, 1, 0, 0),\n",
       " (0, 1, 1, 1, 0, 0),\n",
       " (1, 1, 0, 1, 0, 0),\n",
       " (1, 1, 1, 0, 0, 0)]"
      ]
     },
     "execution_count": 119,
     "metadata": {},
     "output_type": "execute_result"
    }
   ],
   "source": [
    "list(split(p))"
   ]
  },
  {
   "cell_type": "code",
   "execution_count": 74,
   "metadata": {},
   "outputs": [],
   "source": [
    "p_list = [el for el in p]\n",
    "probility = []\n",
    "all = sum([el for el in pingying.values()])\n",
    "\n",
    "for cut in split(p):\n",
    "    cut = [i for i, s in enumerate(cut) if s]\n",
    "    p_temp = p_list.copy()\n",
    "    for index in cut[::-1]:\n",
    "        p_temp.insert(index, ' ')\n",
    "    p_temp = ''.join(p_temp)\n",
    "    words = []\n",
    "    p_probility = 1\n",
    "    for word in p_temp.split(' '):\n",
    "        word = correct(word)\n",
    "        words.append(word)\n",
    "        if len(word) == 1:\n",
    "            p_probility = 0\n",
    "        p_probility *= pingying.get(word, 0) / all\n",
    "#     if p_probility:\n",
    "#         print(p_probility,words, 1/len(words))\n",
    "    p_probility = p_probility ** (1/len(words))\n",
    "    if p_probility:\n",
    "        probility.append((' '.join(words), p_probility))\n",
    "probility = list(set(probility))\n",
    "probility.sort(key=lambda x: x[1], reverse=True)"
   ]
  },
  {
   "cell_type": "code",
   "execution_count": 75,
   "metadata": {},
   "outputs": [
    {
     "data": {
      "text/plain": [
       "[('xiang', 0.006313906270151132),\n",
       " ('wo xiang', 0.0036199703703819405),\n",
       " ('wo xi ang', 0.0011289484676427332),\n",
       " ('wei ang', 0.001019031574775807)]"
      ]
     },
     "execution_count": 75,
     "metadata": {},
     "output_type": "execute_result"
    }
   ],
   "source": [
    "probility"
   ]
  },
  {
   "cell_type": "code",
   "execution_count": null,
   "metadata": {},
   "outputs": [],
   "source": []
  },
  {
   "cell_type": "code",
   "execution_count": null,
   "metadata": {},
   "outputs": [],
   "source": []
  },
  {
   "cell_type": "code",
   "execution_count": null,
   "metadata": {},
   "outputs": [],
   "source": [
    "p = 'wobuxianshanqinhuadaxue'"
   ]
  },
  {
   "cell_type": "code",
   "execution_count": 126,
   "metadata": {},
   "outputs": [],
   "source": [
    "def split(p):\n",
    "    result_dict = {}\n",
    "    \n",
    "    status_list = []\n",
    "    \n",
    "    status = tuple([0 for _ in range(len(p) - 1)])\n",
    "    \n",
    "#     @lru_cache(2**10)\n",
    "    def _change_status(status):\n",
    "        status = list(status)\n",
    "        indexes = [i for i, _ in enumerate(status) if _ is 0]\n",
    "\n",
    "        for index in indexes:\n",
    "            _status = status.copy()\n",
    "            _status[index] = 1\n",
    "            yield tuple(_status)\n",
    "            \n",
    "    def _reduce_num_to_0(status, num):\n",
    "        heap = []\n",
    "        if num > 0:\n",
    "            heap.append((status, num))\n",
    "        while heap:\n",
    "            status, num = heap.pop()\n",
    "            num -= 1\n",
    "            if status not in result_dict:\n",
    "                for s in _change_status(status):\n",
    "                    if num:\n",
    "                        heap.append((s, num))\n",
    "                    else:\n",
    "                        result_dict.setdefault('_' + str(status), []).append(s)\n",
    "                        yield s\n",
    "                if '_' + str(status) in result_dict:\n",
    "                    result_dict[status] = result_dict['_' + str(status)]\n",
    "                    del result_dict['_' + str(status)]\n",
    "                \n",
    "            else:\n",
    "                for s in result_dict[status]:\n",
    "                    if num:\n",
    "                        heap.append((s, num))\n",
    "                    else:\n",
    "                        result_dict.setdefault('_' + str(status), []).append(s)\n",
    "                        yield s\n",
    "                if '_' + str(status) in result_dict:\n",
    "                    result_dict[status] = result_dict['_' + str(status)]\n",
    "                    del result_dict['_' + str(status)]\n",
    "    for num in range(1, len(p)):\n",
    "        for s in _reduce_num_to_0(status, num):\n",
    "            if s not in status_list:\n",
    "                status_list.append(s)\n",
    "                yield s\n"
   ]
  },
  {
   "cell_type": "code",
   "execution_count": 128,
   "metadata": {},
   "outputs": [
    {
     "data": {
      "text/plain": [
       "[(1, 0, 0, 0, 0, 0, 0, 0),\n",
       " (0, 1, 0, 0, 0, 0, 0, 0),\n",
       " (0, 0, 1, 0, 0, 0, 0, 0),\n",
       " (0, 0, 0, 1, 0, 0, 0, 0),\n",
       " (0, 0, 0, 0, 1, 0, 0, 0),\n",
       " (0, 0, 0, 0, 0, 1, 0, 0),\n",
       " (0, 0, 0, 0, 0, 0, 1, 0),\n",
       " (0, 0, 0, 0, 0, 0, 0, 1),\n",
       " (1, 0, 0, 0, 0, 0, 0, 1),\n",
       " (0, 1, 0, 0, 0, 0, 0, 1),\n",
       " (0, 0, 1, 0, 0, 0, 0, 1),\n",
       " (0, 0, 0, 1, 0, 0, 0, 1),\n",
       " (0, 0, 0, 0, 1, 0, 0, 1),\n",
       " (0, 0, 0, 0, 0, 1, 0, 1),\n",
       " (0, 0, 0, 0, 0, 0, 1, 1),\n",
       " (1, 0, 0, 0, 0, 0, 1, 0),\n",
       " (0, 1, 0, 0, 0, 0, 1, 0),\n",
       " (0, 0, 1, 0, 0, 0, 1, 0),\n",
       " (0, 0, 0, 1, 0, 0, 1, 0),\n",
       " (0, 0, 0, 0, 1, 0, 1, 0),\n",
       " (0, 0, 0, 0, 0, 1, 1, 0),\n",
       " (1, 0, 0, 0, 0, 1, 0, 0),\n",
       " (0, 1, 0, 0, 0, 1, 0, 0),\n",
       " (0, 0, 1, 0, 0, 1, 0, 0),\n",
       " (0, 0, 0, 1, 0, 1, 0, 0),\n",
       " (0, 0, 0, 0, 1, 1, 0, 0),\n",
       " (1, 0, 0, 0, 1, 0, 0, 0),\n",
       " (0, 1, 0, 0, 1, 0, 0, 0),\n",
       " (0, 0, 1, 0, 1, 0, 0, 0),\n",
       " (0, 0, 0, 1, 1, 0, 0, 0),\n",
       " (1, 0, 0, 1, 0, 0, 0, 0),\n",
       " (0, 1, 0, 1, 0, 0, 0, 0),\n",
       " (0, 0, 1, 1, 0, 0, 0, 0),\n",
       " (1, 0, 1, 0, 0, 0, 0, 0),\n",
       " (0, 1, 1, 0, 0, 0, 0, 0),\n",
       " (1, 1, 0, 0, 0, 0, 0, 0),\n",
       " (1, 0, 0, 0, 0, 0, 1, 1),\n",
       " (0, 1, 0, 0, 0, 0, 1, 1),\n",
       " (0, 0, 1, 0, 0, 0, 1, 1),\n",
       " (0, 0, 0, 1, 0, 0, 1, 1),\n",
       " (0, 0, 0, 0, 1, 0, 1, 1),\n",
       " (0, 0, 0, 0, 0, 1, 1, 1),\n",
       " (1, 0, 0, 0, 0, 1, 0, 1),\n",
       " (0, 1, 0, 0, 0, 1, 0, 1),\n",
       " (0, 0, 1, 0, 0, 1, 0, 1),\n",
       " (0, 0, 0, 1, 0, 1, 0, 1),\n",
       " (0, 0, 0, 0, 1, 1, 0, 1),\n",
       " (1, 0, 0, 0, 1, 0, 0, 1),\n",
       " (0, 1, 0, 0, 1, 0, 0, 1),\n",
       " (0, 0, 1, 0, 1, 0, 0, 1),\n",
       " (0, 0, 0, 1, 1, 0, 0, 1),\n",
       " (1, 0, 0, 1, 0, 0, 0, 1),\n",
       " (0, 1, 0, 1, 0, 0, 0, 1),\n",
       " (0, 0, 1, 1, 0, 0, 0, 1),\n",
       " (1, 0, 1, 0, 0, 0, 0, 1),\n",
       " (0, 1, 1, 0, 0, 0, 0, 1),\n",
       " (1, 1, 0, 0, 0, 0, 0, 1),\n",
       " (1, 0, 0, 0, 0, 1, 1, 0),\n",
       " (0, 1, 0, 0, 0, 1, 1, 0),\n",
       " (0, 0, 1, 0, 0, 1, 1, 0),\n",
       " (0, 0, 0, 1, 0, 1, 1, 0),\n",
       " (0, 0, 0, 0, 1, 1, 1, 0),\n",
       " (1, 0, 0, 0, 1, 0, 1, 0),\n",
       " (0, 1, 0, 0, 1, 0, 1, 0),\n",
       " (0, 0, 1, 0, 1, 0, 1, 0),\n",
       " (0, 0, 0, 1, 1, 0, 1, 0),\n",
       " (1, 0, 0, 1, 0, 0, 1, 0),\n",
       " (0, 1, 0, 1, 0, 0, 1, 0),\n",
       " (0, 0, 1, 1, 0, 0, 1, 0),\n",
       " (1, 0, 1, 0, 0, 0, 1, 0),\n",
       " (0, 1, 1, 0, 0, 0, 1, 0),\n",
       " (1, 1, 0, 0, 0, 0, 1, 0),\n",
       " (1, 0, 0, 0, 1, 1, 0, 0),\n",
       " (0, 1, 0, 0, 1, 1, 0, 0),\n",
       " (0, 0, 1, 0, 1, 1, 0, 0),\n",
       " (0, 0, 0, 1, 1, 1, 0, 0),\n",
       " (1, 0, 0, 1, 0, 1, 0, 0),\n",
       " (0, 1, 0, 1, 0, 1, 0, 0),\n",
       " (0, 0, 1, 1, 0, 1, 0, 0),\n",
       " (1, 0, 1, 0, 0, 1, 0, 0),\n",
       " (0, 1, 1, 0, 0, 1, 0, 0),\n",
       " (1, 1, 0, 0, 0, 1, 0, 0),\n",
       " (1, 0, 0, 1, 1, 0, 0, 0),\n",
       " (0, 1, 0, 1, 1, 0, 0, 0),\n",
       " (0, 0, 1, 1, 1, 0, 0, 0),\n",
       " (1, 0, 1, 0, 1, 0, 0, 0),\n",
       " (0, 1, 1, 0, 1, 0, 0, 0),\n",
       " (1, 1, 0, 0, 1, 0, 0, 0),\n",
       " (1, 0, 1, 1, 0, 0, 0, 0),\n",
       " (0, 1, 1, 1, 0, 0, 0, 0),\n",
       " (1, 1, 0, 1, 0, 0, 0, 0),\n",
       " (1, 1, 1, 0, 0, 0, 0, 0),\n",
       " (1, 0, 0, 0, 0, 1, 1, 1),\n",
       " (0, 1, 0, 0, 0, 1, 1, 1),\n",
       " (0, 0, 1, 0, 0, 1, 1, 1),\n",
       " (0, 0, 0, 1, 0, 1, 1, 1),\n",
       " (0, 0, 0, 0, 1, 1, 1, 1),\n",
       " (1, 0, 0, 0, 1, 0, 1, 1),\n",
       " (0, 1, 0, 0, 1, 0, 1, 1),\n",
       " (0, 0, 1, 0, 1, 0, 1, 1),\n",
       " (0, 0, 0, 1, 1, 0, 1, 1),\n",
       " (1, 0, 0, 1, 0, 0, 1, 1),\n",
       " (0, 1, 0, 1, 0, 0, 1, 1),\n",
       " (0, 0, 1, 1, 0, 0, 1, 1),\n",
       " (1, 0, 1, 0, 0, 0, 1, 1),\n",
       " (0, 1, 1, 0, 0, 0, 1, 1),\n",
       " (1, 1, 0, 0, 0, 0, 1, 1),\n",
       " (1, 0, 0, 0, 1, 1, 0, 1),\n",
       " (0, 1, 0, 0, 1, 1, 0, 1),\n",
       " (0, 0, 1, 0, 1, 1, 0, 1),\n",
       " (0, 0, 0, 1, 1, 1, 0, 1),\n",
       " (1, 0, 0, 1, 0, 1, 0, 1),\n",
       " (0, 1, 0, 1, 0, 1, 0, 1),\n",
       " (0, 0, 1, 1, 0, 1, 0, 1),\n",
       " (1, 0, 1, 0, 0, 1, 0, 1),\n",
       " (0, 1, 1, 0, 0, 1, 0, 1),\n",
       " (1, 1, 0, 0, 0, 1, 0, 1),\n",
       " (1, 0, 0, 1, 1, 0, 0, 1),\n",
       " (0, 1, 0, 1, 1, 0, 0, 1),\n",
       " (0, 0, 1, 1, 1, 0, 0, 1),\n",
       " (1, 0, 1, 0, 1, 0, 0, 1),\n",
       " (0, 1, 1, 0, 1, 0, 0, 1),\n",
       " (1, 1, 0, 0, 1, 0, 0, 1),\n",
       " (1, 0, 1, 1, 0, 0, 0, 1),\n",
       " (0, 1, 1, 1, 0, 0, 0, 1),\n",
       " (1, 1, 0, 1, 0, 0, 0, 1),\n",
       " (1, 1, 1, 0, 0, 0, 0, 1),\n",
       " (1, 0, 0, 0, 1, 1, 1, 0),\n",
       " (0, 1, 0, 0, 1, 1, 1, 0),\n",
       " (0, 0, 1, 0, 1, 1, 1, 0),\n",
       " (0, 0, 0, 1, 1, 1, 1, 0),\n",
       " (1, 0, 0, 1, 0, 1, 1, 0),\n",
       " (0, 1, 0, 1, 0, 1, 1, 0),\n",
       " (0, 0, 1, 1, 0, 1, 1, 0),\n",
       " (1, 0, 1, 0, 0, 1, 1, 0),\n",
       " (0, 1, 1, 0, 0, 1, 1, 0),\n",
       " (1, 1, 0, 0, 0, 1, 1, 0),\n",
       " (1, 0, 0, 1, 1, 0, 1, 0),\n",
       " (0, 1, 0, 1, 1, 0, 1, 0),\n",
       " (0, 0, 1, 1, 1, 0, 1, 0),\n",
       " (1, 0, 1, 0, 1, 0, 1, 0),\n",
       " (0, 1, 1, 0, 1, 0, 1, 0),\n",
       " (1, 1, 0, 0, 1, 0, 1, 0),\n",
       " (1, 0, 1, 1, 0, 0, 1, 0),\n",
       " (0, 1, 1, 1, 0, 0, 1, 0),\n",
       " (1, 1, 0, 1, 0, 0, 1, 0),\n",
       " (1, 1, 1, 0, 0, 0, 1, 0),\n",
       " (1, 0, 0, 1, 1, 1, 0, 0),\n",
       " (0, 1, 0, 1, 1, 1, 0, 0),\n",
       " (0, 0, 1, 1, 1, 1, 0, 0),\n",
       " (1, 0, 1, 0, 1, 1, 0, 0),\n",
       " (0, 1, 1, 0, 1, 1, 0, 0),\n",
       " (1, 1, 0, 0, 1, 1, 0, 0),\n",
       " (1, 0, 1, 1, 0, 1, 0, 0),\n",
       " (0, 1, 1, 1, 0, 1, 0, 0),\n",
       " (1, 1, 0, 1, 0, 1, 0, 0),\n",
       " (1, 1, 1, 0, 0, 1, 0, 0),\n",
       " (1, 0, 1, 1, 1, 0, 0, 0),\n",
       " (0, 1, 1, 1, 1, 0, 0, 0),\n",
       " (1, 1, 0, 1, 1, 0, 0, 0),\n",
       " (1, 1, 1, 0, 1, 0, 0, 0),\n",
       " (1, 1, 1, 1, 0, 0, 0, 0),\n",
       " (1, 0, 0, 0, 1, 1, 1, 1),\n",
       " (0, 1, 0, 0, 1, 1, 1, 1),\n",
       " (0, 0, 1, 0, 1, 1, 1, 1),\n",
       " (0, 0, 0, 1, 1, 1, 1, 1),\n",
       " (1, 0, 0, 1, 0, 1, 1, 1),\n",
       " (0, 1, 0, 1, 0, 1, 1, 1),\n",
       " (0, 0, 1, 1, 0, 1, 1, 1),\n",
       " (1, 0, 1, 0, 0, 1, 1, 1),\n",
       " (0, 1, 1, 0, 0, 1, 1, 1),\n",
       " (1, 1, 0, 0, 0, 1, 1, 1),\n",
       " (1, 0, 0, 1, 1, 0, 1, 1),\n",
       " (0, 1, 0, 1, 1, 0, 1, 1),\n",
       " (0, 0, 1, 1, 1, 0, 1, 1),\n",
       " (1, 0, 1, 0, 1, 0, 1, 1),\n",
       " (0, 1, 1, 0, 1, 0, 1, 1),\n",
       " (1, 1, 0, 0, 1, 0, 1, 1),\n",
       " (1, 0, 1, 1, 0, 0, 1, 1),\n",
       " (0, 1, 1, 1, 0, 0, 1, 1),\n",
       " (1, 1, 0, 1, 0, 0, 1, 1),\n",
       " (1, 1, 1, 0, 0, 0, 1, 1),\n",
       " (1, 0, 0, 1, 1, 1, 0, 1),\n",
       " (0, 1, 0, 1, 1, 1, 0, 1),\n",
       " (0, 0, 1, 1, 1, 1, 0, 1),\n",
       " (1, 0, 1, 0, 1, 1, 0, 1),\n",
       " (0, 1, 1, 0, 1, 1, 0, 1),\n",
       " (1, 1, 0, 0, 1, 1, 0, 1),\n",
       " (1, 0, 1, 1, 0, 1, 0, 1),\n",
       " (0, 1, 1, 1, 0, 1, 0, 1),\n",
       " (1, 1, 0, 1, 0, 1, 0, 1),\n",
       " (1, 1, 1, 0, 0, 1, 0, 1),\n",
       " (1, 0, 1, 1, 1, 0, 0, 1),\n",
       " (0, 1, 1, 1, 1, 0, 0, 1),\n",
       " (1, 1, 0, 1, 1, 0, 0, 1),\n",
       " (1, 1, 1, 0, 1, 0, 0, 1),\n",
       " (1, 1, 1, 1, 0, 0, 0, 1),\n",
       " (1, 0, 0, 1, 1, 1, 1, 0),\n",
       " (0, 1, 0, 1, 1, 1, 1, 0),\n",
       " (0, 0, 1, 1, 1, 1, 1, 0),\n",
       " (1, 0, 1, 0, 1, 1, 1, 0),\n",
       " (0, 1, 1, 0, 1, 1, 1, 0),\n",
       " (1, 1, 0, 0, 1, 1, 1, 0),\n",
       " (1, 0, 1, 1, 0, 1, 1, 0),\n",
       " (0, 1, 1, 1, 0, 1, 1, 0),\n",
       " (1, 1, 0, 1, 0, 1, 1, 0),\n",
       " (1, 1, 1, 0, 0, 1, 1, 0),\n",
       " (1, 0, 1, 1, 1, 0, 1, 0),\n",
       " (0, 1, 1, 1, 1, 0, 1, 0),\n",
       " (1, 1, 0, 1, 1, 0, 1, 0),\n",
       " (1, 1, 1, 0, 1, 0, 1, 0),\n",
       " (1, 1, 1, 1, 0, 0, 1, 0),\n",
       " (1, 0, 1, 1, 1, 1, 0, 0),\n",
       " (0, 1, 1, 1, 1, 1, 0, 0),\n",
       " (1, 1, 0, 1, 1, 1, 0, 0),\n",
       " (1, 1, 1, 0, 1, 1, 0, 0),\n",
       " (1, 1, 1, 1, 0, 1, 0, 0),\n",
       " (1, 1, 1, 1, 1, 0, 0, 0),\n",
       " (1, 0, 0, 1, 1, 1, 1, 1),\n",
       " (0, 1, 0, 1, 1, 1, 1, 1),\n",
       " (0, 0, 1, 1, 1, 1, 1, 1),\n",
       " (1, 0, 1, 0, 1, 1, 1, 1),\n",
       " (0, 1, 1, 0, 1, 1, 1, 1),\n",
       " (1, 1, 0, 0, 1, 1, 1, 1),\n",
       " (1, 0, 1, 1, 0, 1, 1, 1),\n",
       " (0, 1, 1, 1, 0, 1, 1, 1),\n",
       " (1, 1, 0, 1, 0, 1, 1, 1),\n",
       " (1, 1, 1, 0, 0, 1, 1, 1),\n",
       " (1, 0, 1, 1, 1, 0, 1, 1),\n",
       " (0, 1, 1, 1, 1, 0, 1, 1),\n",
       " (1, 1, 0, 1, 1, 0, 1, 1),\n",
       " (1, 1, 1, 0, 1, 0, 1, 1),\n",
       " (1, 1, 1, 1, 0, 0, 1, 1),\n",
       " (1, 0, 1, 1, 1, 1, 0, 1),\n",
       " (0, 1, 1, 1, 1, 1, 0, 1),\n",
       " (1, 1, 0, 1, 1, 1, 0, 1),\n",
       " (1, 1, 1, 0, 1, 1, 0, 1),\n",
       " (1, 1, 1, 1, 0, 1, 0, 1),\n",
       " (1, 1, 1, 1, 1, 0, 0, 1),\n",
       " (1, 0, 1, 1, 1, 1, 1, 0),\n",
       " (0, 1, 1, 1, 1, 1, 1, 0),\n",
       " (1, 1, 0, 1, 1, 1, 1, 0),\n",
       " (1, 1, 1, 0, 1, 1, 1, 0),\n",
       " (1, 1, 1, 1, 0, 1, 1, 0),\n",
       " (1, 1, 1, 1, 1, 0, 1, 0),\n",
       " (1, 1, 1, 1, 1, 1, 0, 0),\n",
       " (1, 0, 1, 1, 1, 1, 1, 1),\n",
       " (0, 1, 1, 1, 1, 1, 1, 1),\n",
       " (1, 1, 0, 1, 1, 1, 1, 1),\n",
       " (1, 1, 1, 0, 1, 1, 1, 1),\n",
       " (1, 1, 1, 1, 0, 1, 1, 1),\n",
       " (1, 1, 1, 1, 1, 0, 1, 1),\n",
       " (1, 1, 1, 1, 1, 1, 0, 1),\n",
       " (1, 1, 1, 1, 1, 1, 1, 0),\n",
       " (1, 1, 1, 1, 1, 1, 1, 1)]"
      ]
     },
     "execution_count": 128,
     "metadata": {},
     "output_type": "execute_result"
    }
   ],
   "source": [
    "list((split('woxiangsd')))"
   ]
  },
  {
   "cell_type": "code",
   "execution_count": null,
   "metadata": {},
   "outputs": [],
   "source": []
  },
  {
   "cell_type": "code",
   "execution_count": null,
   "metadata": {},
   "outputs": [],
   "source": []
  },
  {
   "cell_type": "code",
   "execution_count": null,
   "metadata": {},
   "outputs": [],
   "source": []
  }
 ],
 "metadata": {
  "kernelspec": {
   "display_name": "Python 3",
   "language": "python",
   "name": "python3"
  },
  "language_info": {
   "codemirror_mode": {
    "name": "ipython",
    "version": 3
   },
   "file_extension": ".py",
   "mimetype": "text/x-python",
   "name": "python",
   "nbconvert_exporter": "python",
   "pygments_lexer": "ipython3",
   "version": "3.7.4"
  }
 },
 "nbformat": 4,
 "nbformat_minor": 2
}
