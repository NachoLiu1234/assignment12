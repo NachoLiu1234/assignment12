{
 "cells": [
  {
   "cell_type": "markdown",
   "metadata": {},
   "source": [
    "优点:\n",
    "1. 句向量根据论文的方法计算, 效果比较好\n",
    "2. 因为knn平滑使用了导致个别句子变化较大, 所以去掉了knn平滑, 因为句子数量较少, 摘要的句子不多, knn平滑意义不是很大\n",
    "\n",
    "缺点:\n",
    "1. 未使用停用词"
   ]
  },
  {
   "cell_type": "code",
   "execution_count": null,
   "metadata": {},
   "outputs": [],
   "source": []
  }
 ],
 "metadata": {
  "kernelspec": {
   "display_name": "Python 3",
   "language": "python",
   "name": "python3"
  },
  "language_info": {
   "codemirror_mode": {
    "name": "ipython",
    "version": 3
   },
   "file_extension": ".py",
   "mimetype": "text/x-python",
   "name": "python",
   "nbconvert_exporter": "python",
   "pygments_lexer": "ipython3",
   "version": "3.7.4"
  }
 },
 "nbformat": 4,
 "nbformat_minor": 2
}
